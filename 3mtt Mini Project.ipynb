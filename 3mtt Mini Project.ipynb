{
  "nbformat": 4,
  "nbformat_minor": 0,
  "metadata": {
    "colab": {
      "provenance": []
    },
    "kernelspec": {
      "name": "python3",
      "display_name": "Python 3"
    },
    "language_info": {
      "name": "python"
    }
  },
  "cells": [
    {
      "cell_type": "code",
      "execution_count": 5,
      "metadata": {
        "id": "1PF0iQ9BA7FB"
      },
      "outputs": [],
      "source": [
        "def quiz_game():\n",
        "    questions = [\n",
        "        {\"question\": \"What is the capital of France?\", \"answer\": \"Paris\"},\n",
        "        {\"question\": \"What is 5 + 7?\", \"answer\": \"12\"},\n",
        "        {\"question\": \"What color do you get when you mix red and white?\", \"answer\": \"Pink\"},\n",
        "        {\"question\": \"What is the largest planet in our solar system?\", \"answer\": \"Jupiter\"},\n",
        "        {\"question\": \"What language is primarily spoken in Brazil?\", \"answer\": \"Portuguese\"},\n",
        "    ]\n",
        "\n",
        "    score = 0\n",
        "\n",
        "    for i, q in enumerate(questions):\n",
        "        user_answer = input(f\"Q{i+1}: {q['question']} \").strip()\n",
        "        if user_answer.lower() == q['answer'].lower():\n",
        "            print(\"Correct!\\n\")\n",
        "            score += 1\n",
        "        else:\n",
        "            print(f\"Incorrect! The correct answer was: {q['answer']}\\n\")\n",
        "\n",
        "    print(f\"Your final score is {score}/5\")\n"
      ]
    },
    {
      "cell_type": "code",
      "source": [
        "def number_swapping():\n",
        "    try:\n",
        "        a = float(input(\"Enter the first number: \"))\n",
        "        b = float(input(\"Enter the second number: \"))\n",
        "        print(f\"Before swapping: a = {a}, b = {b}\")\n",
        "        a, b = b, a\n",
        "        print(f\"After swapping: a = {a}, b = {b}\")\n",
        "    except ValueError:\n",
        "        print(\"Invalid input! Please enter numeric values.\")\n"
      ],
      "metadata": {
        "id": "0i6IRsUeBFwz"
      },
      "execution_count": 6,
      "outputs": []
    },
    {
      "cell_type": "code",
      "source": [
        "def number_checker():\n",
        "    try:\n",
        "        num = int(input(\"Enter an integer: \"))\n",
        "\n",
        "        # Check Prime\n",
        "        is_prime = num > 1 and all(num % i != 0 for i in range(2, int(num**0.5)+1))\n",
        "\n",
        "        # Check Armstrong\n",
        "        digits = [int(d) for d in str(num)]\n",
        "        is_armstrong = sum(d ** len(digits) for d in digits) == num\n",
        "\n",
        "        # Check Palindrome\n",
        "        is_palindrome = str(num) == str(num)[::-1]\n",
        "\n",
        "        if is_prime:\n",
        "            print(f\"{num} is a Prime number.\")\n",
        "        if is_armstrong:\n",
        "            print(f\"{num} is an Armstrong number.\")\n",
        "        if is_palindrome:\n",
        "            print(f\"{num} is a Palindrome number.\")\n",
        "        if not (is_prime or is_armstrong or is_palindrome):\n",
        "            print(f\"{num} is neither Prime, Armstrong, nor Palindrome.\")\n",
        "\n",
        "    except ValueError:\n",
        "        print(\"Invalid input! Please enter a valid integer.\")\n"
      ],
      "metadata": {
        "id": "c6ghaZUMBMwR"
      },
      "execution_count": 7,
      "outputs": []
    },
    {
      "cell_type": "code",
      "source": [
        "def fibonacci_sequence():\n",
        "    try:\n",
        "        n = int(input(\"Enter how many terms of the Fibonacci sequence to display: \"))\n",
        "        if n <= 0:\n",
        "            print(\"Please enter a positive integer.\")\n",
        "            return\n",
        "\n",
        "        fib = [0, 1]\n",
        "        for i in range(2, n):\n",
        "            fib.append(fib[-1] + fib[-2])\n",
        "\n",
        "        print(f\"The first {n} terms of the Fibonacci sequence:\")\n",
        "        print(fib[:n])\n",
        "\n",
        "    except ValueError:\n",
        "        print(\"Invalid input! Please enter a valid positive integer.\")\n"
      ],
      "metadata": {
        "id": "BTHpmV-gBboP"
      },
      "execution_count": 8,
      "outputs": []
    }
  ]
}